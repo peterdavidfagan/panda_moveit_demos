{
 "cells": [
  {
   "cell_type": "markdown",
   "id": "4df8633e",
   "metadata": {},
   "source": [
    "# Introduction\n",
    "\n",
    "Welcome to this tutorial on using jupyter notebooks with Moveit 2. A great benefit of being able to interact with MoveIt via a Python notebook is the ability to rapidly prototype code. We hope you find this interface intuitive and that you gain value from using MoveIt via Python notebooks.\n",
    "\n",
    "In this tutorial we will cover the following: \n",
    "\n",
    "* The required imports to run the notebook\n",
    "* A motion planning example\n",
    "* A teleoperation example\n",
    "\n",
    "If you have suggestions or feedback for this tutorial please post an issue on GitHub (https://github.com/ros-planning/moveit2_tutorials) and tag @peterdavidfagan."
   ]
  },
  {
   "cell_type": "markdown",
   "id": "91901c66",
   "metadata": {},
   "source": [
    "## Imports\n",
    "\n",
    "Note: to launch this notebook and the nodes it depends on you must first specify a launch file. Details are provided earlier in this tutorial ()."
   ]
  },
  {
   "cell_type": "code",
   "execution_count": 1,
   "id": "7bd810f5",
   "metadata": {},
   "outputs": [],
   "source": [
    "import os\n",
    "import math\n",
    "import sys\n",
    "import yaml\n",
    "import rclpy\n",
    "import numpy as np\n",
    "\n",
    "# message libraries\n",
    "from geometry_msgs.msg import PoseStamped, Pose\n",
    "\n",
    "# moveit_py\n",
    "from moveit.planning import (\n",
    "    MoveItPy,\n",
    "    PlanRequestParameters,\n",
    "    MultiPipelinePlanRequestParameters,\n",
    ")\n",
    "from moveit.core.robot_state import RobotState\n",
    "from moveit.core.kinematic_constraints import construct_joint_constraint\n",
    "\n",
    "# config file libraries\n",
    "from moveit_configs_utils import MoveItConfigsBuilder\n",
    "from ament_index_python.packages import get_package_share_directory\n",
    "\n",
    "\n",
    "# we need to specify our moveit_py config at the top of each notebook we use. \n",
    "# this is since we will start spinning a moveit_py node within this notebook.\n",
    "\n",
    "moveit_config = (\n",
    "            MoveItConfigsBuilder(robot_name=\"franka_panda\", package_name=\"moveit_resources_franka_panda_moveit_config\")\n",
    "            .robot_description(file_path=get_package_share_directory(\"moveit_resources_franka_panda_description\") + \"/urdf/panda_arm.urdf.xacro\", \n",
    "                mappings={\"robot_ip\": \"192.168.106.39\", \"hand\": \"true\"})\n",
    "            .robot_description_semantic(\"config/franka_panda.srdf\")\n",
    "            .trajectory_execution(\"config/moveit_controllers.yaml\")\n",
    "            .moveit_cpp(file_path=get_package_share_directory(\"panda_moveit_demos\") + \"/config/notebook.yaml\")\n",
    "            .to_moveit_configs()\n",
    "            ).to_dict()"
   ]
  },
  {
   "cell_type": "markdown",
   "id": "d44015e2",
   "metadata": {},
   "source": [
    "## Setup"
   ]
  },
  {
   "cell_type": "code",
   "execution_count": 2,
   "id": "f9d767d3",
   "metadata": {},
   "outputs": [
    {
     "name": "stderr",
     "output_type": "stream",
     "text": [
      "[INFO] [1677079979.670386861] [moveit_cpp_initializer]: Initialize rclcpp\n",
      "[INFO] [1677079979.670454021] [moveit_cpp_initializer]: Initialize node parameters\n",
      "[INFO] [1677079979.698121669] [moveit_cpp_initializer]: params_filepath: /tmp/launch_params_7ucbgu_l\n",
      "[INFO] [1677079979.698142849] [moveit_cpp_initializer]: Initialize node and executor\n",
      "[INFO] [1677079979.756566928] [moveit_cpp_initializer]: Spin separate thread\n",
      "[INFO] [1677079979.759319326] [moveit_rdf_loader.rdf_loader]: Loaded robot model in 0.00261219 seconds\n",
      "[INFO] [1677079979.759387906] [moveit_robot_model.robot_model]: Loading robot model 'panda'...\n",
      "[WARN] [1677079979.765991537] [moveit_robot_model.robot_model]: Link panda_leftfinger has visual geometry but no collision geometry. Collision geometry will be left empty. Fix your URDF file by explicitly specifying collision geometry.\n",
      "[WARN] [1677079979.766137068] [moveit_robot_model.robot_model]: Link panda_rightfinger has visual geometry but no collision geometry. Collision geometry will be left empty. Fix your URDF file by explicitly specifying collision geometry.\n",
      "[INFO] [1677079979.777341954] [moveit_kinematics_base.kinematics_base]: Joint weights for group 'panda_arm': 1 1 1 1 1 1 1\n",
      "[INFO] [1677079979.785995362] [moveit.ros_planning_interface.moveit_cpp]: Listening to '/joint_states' for joint states\n",
      "[INFO] [1677079979.786851095] [moveit_ros.current_state_monitor]: Listening to joint states on topic '/joint_states'\n",
      "[INFO] [1677079979.789293563] [moveit_ros.planning_scene_monitor.planning_scene_monitor]: Listening to '/moveit_cpp/planning_scene_monitor' for attached collision objects\n",
      "[INFO] [1677079979.790009945] [moveit_ros.planning_scene_monitor.planning_scene_monitor]: Publishing maintained planning scene on '/moveit_cpp/monitored_planning_scene'\n",
      "[INFO] [1677079979.790118485] [moveit_ros.planning_scene_monitor.planning_scene_monitor]: Starting planning scene monitor\n",
      "[INFO] [1677079979.790432676] [moveit_ros.planning_scene_monitor.planning_scene_monitor]: Listening to '/moveit_cpp/publish_planning_scene'\n",
      "[INFO] [1677079979.790441246] [moveit_ros.planning_scene_monitor.planning_scene_monitor]: Starting world geometry update monitor for collision objects, attached objects, octomap updates.\n",
      "[INFO] [1677079979.790751457] [moveit_ros.planning_scene_monitor.planning_scene_monitor]: Listening to 'collision_object'\n",
      "[INFO] [1677079979.791049758] [moveit_ros.planning_scene_monitor.planning_scene_monitor]: Listening to 'planning_scene_world' for planning scene world geometry\n",
      "[WARN] [1677079979.791687840] [moveit.ros.occupancy_map_monitor.middleware_handle]: Resolution not specified for Octomap. Assuming resolution = 0.1 instead\n",
      "[ERROR] [1677079979.791697030] [moveit.ros.occupancy_map_monitor.middleware_handle]: No 3D sensor plugin(s) defined for octomap updates\n",
      "[INFO] [1677079979.792413752] [moveit.ros_planning_interface.moveit_cpp]: Loading planning pipeline 'ompl'\n",
      "[INFO] [1677079979.794559699] [moveit.ros_planning.planning_pipeline]: Multiple planning plugins available. You should specify the '~planning_plugin' parameter. Using 'chomp_interface/CHOMPPlanner' for now.\n",
      "[INFO] [1677079979.796535636] [moveit.ros_planning.planning_pipeline]: Using planning interface 'CHOMP'\n",
      "[INFO] [1677079979.797799730] [moveit.ros_planning_interface.moveit_cpp]: Loading planning pipeline 'pilz_industrial_motion_planner'\n",
      "[INFO] [1677079979.800822958] [moveit.pilz_industrial_motion_planner.joint_limits_aggregator]: Reading limits from namespace robot_description_planning\n",
      "[INFO] [1677079979.807344370] [moveit.pilz_industrial_motion_planner]: Available plugins: pilz_industrial_motion_planner/PlanningContextLoaderCIRC pilz_industrial_motion_planner/PlanningContextLoaderLIN pilz_industrial_motion_planner/PlanningContextLoaderPTP \n",
      "[INFO] [1677079979.807352890] [moveit.pilz_industrial_motion_planner]: About to load: pilz_industrial_motion_planner/PlanningContextLoaderCIRC\n",
      "[INFO] [1677079979.808374624] [moveit.pilz_industrial_motion_planner]: Registered Algorithm [CIRC]\n",
      "[INFO] [1677079979.808389064] [moveit.pilz_industrial_motion_planner]: About to load: pilz_industrial_motion_planner/PlanningContextLoaderLIN\n",
      "[INFO] [1677079979.809052786] [moveit.pilz_industrial_motion_planner]: Registered Algorithm [LIN]\n",
      "[INFO] [1677079979.809060826] [moveit.pilz_industrial_motion_planner]: About to load: pilz_industrial_motion_planner/PlanningContextLoaderPTP\n",
      "[INFO] [1677079979.809688008] [moveit.pilz_industrial_motion_planner]: Registered Algorithm [PTP]\n",
      "[INFO] [1677079979.809696758] [moveit.ros_planning.planning_pipeline]: Using planning interface 'Pilz Industrial Motion Planner'\n",
      "[INFO] [1677079979.812915257] [moveit_ros.fix_workspace_bounds]: Param 'pilz_industrial_motion_planner.default_workspace_bounds' was not set. Using default value: 10.000000\n",
      "[INFO] [1677079979.812946947] [moveit_ros.fix_start_state_bounds]: Param 'pilz_industrial_motion_planner.start_state_max_bounds_error' was not set. Using default value: 0.050000\n",
      "[INFO] [1677079979.812951637] [moveit_ros.fix_start_state_bounds]: Param 'pilz_industrial_motion_planner.start_state_max_dt' was not set. Using default value: 0.500000\n",
      "[INFO] [1677079979.812969068] [moveit_ros.fix_start_state_collision]: Param 'pilz_industrial_motion_planner.start_state_max_dt' was not set. Using default value: 0.500000\n",
      "[INFO] [1677079979.812972948] [moveit_ros.fix_start_state_collision]: Param 'pilz_industrial_motion_planner.jiggle_fraction' was not set. Using default value: 0.020000\n",
      "[INFO] [1677079979.812979918] [moveit_ros.fix_start_state_collision]: Param 'pilz_industrial_motion_planner.max_sampling_attempts' was not set. Using default value: 100\n",
      "[INFO] [1677079979.812998318] [moveit.ros_planning.planning_pipeline]: Using planning request adapter 'Fix Workspace Bounds'\n",
      "[INFO] [1677079979.813003148] [moveit.ros_planning.planning_pipeline]: Using planning request adapter 'Fix Start State Bounds'\n",
      "[INFO] [1677079979.813005728] [moveit.ros_planning.planning_pipeline]: Using planning request adapter 'Fix Start State In Collision'\n",
      "[INFO] [1677079979.813007958] [moveit.ros_planning.planning_pipeline]: Using planning request adapter 'Fix Start State Path Constraints'\n",
      "[INFO] [1677079979.813497699] [moveit.ros_planning_interface.moveit_cpp]: Loading planning pipeline 'chomp'\n",
      "[INFO] [1677079979.815596436] [moveit.ros_planning.planning_pipeline]: Multiple planning plugins available. You should specify the '~planning_plugin' parameter. Using 'chomp_interface/CHOMPPlanner' for now.\n",
      "[INFO] [1677079979.815835237] [moveit.ros_planning.planning_pipeline]: Using planning interface 'CHOMP'\n",
      "[INFO] [1677079979.816277689] [moveit.ros_planning_interface.moveit_cpp]: Loading planning pipeline 'ompl_rrt_star'\n",
      "[INFO] [1677079979.818407486] [moveit.ros_planning.planning_pipeline]: Multiple planning plugins available. You should specify the '~planning_plugin' parameter. Using 'chomp_interface/CHOMPPlanner' for now.\n",
      "[INFO] [1677079979.818633007] [moveit.ros_planning.planning_pipeline]: Using planning interface 'CHOMP'\n",
      "[INFO] [1677079979.844495069] [moveit.plugins.moveit_simple_controller_manager]: Added FollowJointTrajectory controller for panda_arm_controller\n",
      "[INFO] [1677079979.844587139] [moveit.plugins.moveit_simple_controller_manager]: Max effort set to 0.0\n",
      "[INFO] [1677079979.846256444] [moveit.plugins.moveit_simple_controller_manager]: Added GripperCommand controller for panda_gripper\n",
      "[INFO] [1677079979.846371045] [moveit.plugins.moveit_simple_controller_manager]: Returned 2 controllers in list\n",
      "[INFO] [1677079979.846419005] [moveit.plugins.moveit_simple_controller_manager]: Returned 2 controllers in list\n",
      "[INFO] [1677079979.846970097] [moveit_ros.trajectory_execution_manager]: Trajectory execution is managing controllers\n",
      "[WARN] [1677079979.847607389] [moveit_py]: Parameter 'plan_request_params.planner_id' not found in config use default value instead, check parameter type and namespace in YAML file\n",
      "[WARN] [1677079979.847635869] [moveit_py]: Parameter 'plan_request_params.planning_pipeline' not found in config use default value instead, check parameter type and namespace in YAML file\n",
      "[WARN] [1677079979.847641309] [moveit_py]: Parameter 'plan_request_params.planning_time' not found in config use default value instead, check parameter type and namespace in YAML file\n",
      "[WARN] [1677079979.847661589] [moveit_py]: Parameter 'plan_request_params.planning_attempts' not found in config use default value instead, check parameter type and namespace in YAML file\n",
      "[WARN] [1677079979.847667469] [moveit_py]: Parameter 'plan_request_params.max_velocity_scaling_factor' not found in config use default value instead, check parameter type and namespace in YAML file\n",
      "[WARN] [1677079979.847671349] [moveit_py]: Parameter 'plan_request_params.max_acceleration_scaling_factor' not found in config use default value instead, check parameter type and namespace in YAML file\n"
     ]
    }
   ],
   "source": [
    "# initialise rclpy (only for logging purposes)\n",
    "rclpy.init()\n",
    "\n",
    "# instantiate moveit_py instance and a planning component for the panda_arm\n",
    "moveit = MoveItPy(node_name=\"moveit_py\", config_dict=moveit_config)\n",
    "panda = moveit.get_planning_component(\"panda_arm\")"
   ]
  },
  {
   "cell_type": "markdown",
   "id": "2f72a61e",
   "metadata": {},
   "source": [
    "## Motion Planning Example"
   ]
  },
  {
   "cell_type": "code",
   "execution_count": 3,
   "id": "8184bf6b",
   "metadata": {},
   "outputs": [
    {
     "name": "stderr",
     "output_type": "stream",
     "text": [
      "[INFO] [1677079980.816200908] [moveit.pilz_industrial_motion_planner.trajectory_generator_ptp]: Initialized Point-to-Point Trajectory Generator.\n",
      "[INFO] [1677079980.816305368] [moveit.pilz_industrial_motion_planner.trajectory_generator]: Generating PTP trajectory...\n"
     ]
    }
   ],
   "source": [
    "# set plan start state using predefined state\n",
    "panda.set_start_state_to_current_state()\n",
    "\n",
    "# set goal using a pose message this time\n",
    "panda.set_goal_state(configuration_name=\"ready\")\n",
    "\n",
    "# plan to goal\n",
    "planner_params = PlanRequestParameters(moveit, \"pilz_lin\")\n",
    "plan_result = panda.plan(single_plan_parameters=planner_params)"
   ]
  },
  {
   "cell_type": "code",
   "execution_count": 4,
   "id": "aab252d2",
   "metadata": {},
   "outputs": [
    {
     "name": "stderr",
     "output_type": "stream",
     "text": [
      "[INFO] [1677079981.379178445] [moveit.plugins.moveit_simple_controller_manager]: Returned 2 controllers in list\n",
      "[INFO] [1677079981.379240505] [moveit.plugins.moveit_simple_controller_manager]: Returned 2 controllers in list\n",
      "[INFO] [1677079981.379381825] [moveit.plugins.moveit_simple_controller_manager]: Returned 2 controllers in list\n",
      "[INFO] [1677079981.379409115] [moveit.plugins.moveit_simple_controller_manager]: Returned 2 controllers in list\n",
      "[INFO] [1677079981.379530356] [moveit_ros.trajectory_execution_manager]: Validating trajectory with allowed_start_tolerance 0.01\n",
      "[INFO] [1677079981.413273783] [moveit_ros.trajectory_execution_manager]: Starting trajectory execution ...\n",
      "[INFO] [1677079981.413321984] [moveit.plugins.moveit_simple_controller_manager]: Returned 2 controllers in list\n",
      "[INFO] [1677079981.413363024] [moveit.plugins.moveit_simple_controller_manager]: Returned 2 controllers in list\n",
      "[INFO] [1677079981.413544404] [moveit.simple_controller_manager.follow_joint_trajectory_controller_handle]: sending trajectory to panda_arm_controller\n",
      "[INFO] [1677079981.414690538] [moveit.simple_controller_manager.follow_joint_trajectory_controller_handle]: panda_arm_controller started execution\n",
      "[INFO] [1677079981.414706298] [moveit.simple_controller_manager.follow_joint_trajectory_controller_handle]: Goal request accepted!\n",
      "[INFO] [1677079982.415468120] [moveit.simple_controller_manager.follow_joint_trajectory_controller_handle]: Controller 'panda_arm_controller' successfully finished\n",
      "[INFO] [1677079982.513220154] [moveit_ros.trajectory_execution_manager]: Completed trajectory execution with status SUCCEEDED ...\n"
     ]
    }
   ],
   "source": [
    "# execute the plan\n",
    "if plan_result:\n",
    "    robot_traj = plan_result.trajectory\n",
    "    moveit.execute(robot_traj, blocking=True, controllers=[])"
   ]
  },
  {
   "cell_type": "code",
   "execution_count": 7,
   "id": "2cf83a9c",
   "metadata": {},
   "outputs": [],
   "source": [
    "# set plan start state using predefined state\n",
    "panda.set_start_state_to_current_state()\n",
    "\n",
    "# set goal using a pose message this time\n",
    "pose_goal = PoseStamped()\n",
    "pose_goal.header.frame_id = \"panda_link0\"\n",
    "pose_goal.pose.orientation.w = 1.0\n",
    "pose_goal.pose.position.x = 0.28\n",
    "pose_goal.pose.position.y = -0.2\n",
    "pose_goal.pose.position.z = 0.5\n",
    "panda.set_goal_state(pose_stamped_msg = pose_goal, pose_link = \"panda_link8\")\n",
    "\n",
    "# set pose goal using predefined state\n",
    "#panda.set_goal_state(configuration_name=\"extended\")\n",
    "\n",
    "\n",
    "\n",
    "# plan to goal\n",
    "planner_params = PlanRequestParameters(moveit, \"pilz_lin\")\n",
    "plan_result = panda.plan(single_plan_parameters=planner_params)"
   ]
  },
  {
   "cell_type": "code",
   "execution_count": 8,
   "id": "2f590234",
   "metadata": {},
   "outputs": [],
   "source": [
    "# execute the plan\n",
    "if plan_result:\n",
    "    robot_traj = plan_result.trajectory\n",
    "    moveit.execute(robot_traj, blocking=True, controllers=[])"
   ]
  },
  {
   "cell_type": "code",
   "execution_count": null,
   "id": "64bde5d6",
   "metadata": {},
   "outputs": [],
   "source": []
  },
  {
   "cell_type": "markdown",
   "id": "93e7aab0",
   "metadata": {},
   "source": [
    "# Teleoperation"
   ]
  },
  {
   "cell_type": "code",
   "execution_count": 4,
   "id": "cd65c4ed",
   "metadata": {},
   "outputs": [],
   "source": [
    "from moveit.servo_client.devices.ps4_dualshock import PS4DualShockTeleop\n",
    "\n",
    "\n",
    "ps4 = PS4DualShockTeleop(ee_frame_name=\"panda_link8\")\n",
    "ps4.start_teleop()"
   ]
  },
  {
   "cell_type": "code",
   "execution_count": null,
   "id": "6fdab82c",
   "metadata": {},
   "outputs": [],
   "source": [
    "ps4.stop_teleop()"
   ]
  }
 ],
 "metadata": {
  "kernelspec": {
   "display_name": "Python 3 (ipykernel)",
   "language": "python",
   "name": "python3"
  },
  "language_info": {
   "codemirror_mode": {
    "name": "ipython",
    "version": 3
   },
   "file_extension": ".py",
   "mimetype": "text/x-python",
   "name": "python",
   "nbconvert_exporter": "python",
   "pygments_lexer": "ipython3",
   "version": "3.10.6"
  }
 },
 "nbformat": 4,
 "nbformat_minor": 5
}
