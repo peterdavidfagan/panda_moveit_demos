{
 "cells": [
  {
   "cell_type": "markdown",
   "id": "4df8633e",
   "metadata": {},
   "source": [
    "# Introduction\n",
    "\n",
    "Welcome to this tutorial on using jupyter notebooks with Moveit 2. A great benefit of being able to interact with MoveIt via a Python notebook is the ability to rapidly prototype code. We hope you find this interface intuitive and that you gain value from using MoveIt via Python notebooks.\n",
    "\n",
    "In this tutorial we will cover the following: \n",
    "\n",
    "* The required imports to run the notebook\n",
    "* A motion planning example\n",
    "* A teleoperation example\n",
    "\n",
    "If you have suggestions or feedback for this tutorial please post an issue on GitHub (https://github.com/ros-planning/moveit2_tutorials) and tag @peterdavidfagan."
   ]
  },
  {
   "cell_type": "markdown",
   "id": "91901c66",
   "metadata": {},
   "source": [
    "## Imports\n",
    "\n",
    "Note: to launch this notebook and the nodes it depends on you must first specify a launch file. Details are provided earlier in this tutorial ()."
   ]
  },
  {
   "cell_type": "code",
   "execution_count": 1,
   "id": "7bd810f5",
   "metadata": {},
   "outputs": [],
   "source": [
    "import os\n",
    "import math\n",
    "import sys\n",
    "import yaml\n",
    "import rclpy\n",
    "import numpy as np\n",
    "\n",
    "# message libraries\n",
    "from geometry_msgs.msg import PoseStamped, Pose\n",
    "\n",
    "# moveit_py\n",
    "from moveit.planning import MoveItPy\n",
    "from moveit.core.robot_state import RobotState\n",
    "from moveit.core.kinematic_constraints import construct_joint_constraint\n",
    "\n",
    "# config file libraries\n",
    "from moveit_configs_utils import MoveItConfigsBuilder\n",
    "from ament_index_python.packages import get_package_share_directory\n",
    "\n",
    "\n",
    "# we need to specify our moveit_py config at the top of each notebook we use. \n",
    "# this is since we will start spinning a moveit_py node within this notebook.\n",
    "\n",
    "moveit_config = (\n",
    "        MoveItConfigsBuilder(robot_name=\"lite6\", package_name=\"moveit_resources_lite6_moveit_config\")\n",
    "        .robot_description_semantic(file_path=\"config/lite6.srdf\")\n",
    "        .trajectory_execution(file_path=\"config/moveit_controllers.yaml\")\n",
    "        .robot_description(file_path=get_package_share_directory(\"moveit_resources_lite6_description\")\n",
    "                          + \"/urdf/lite6.urdf\")\n",
    "        .moveit_cpp(\n",
    "            file_path=get_package_share_directory(\"lite6_moveit_demos\")\n",
    "            + \"/config/jupyter_notebook_prototyping.yaml\"\n",
    "        )\n",
    "        .to_moveit_configs()\n",
    "    ).to_dict()"
   ]
  },
  {
   "cell_type": "markdown",
   "id": "d44015e2",
   "metadata": {},
   "source": [
    "## Setup"
   ]
  },
  {
   "cell_type": "code",
   "execution_count": 2,
   "id": "f9d767d3",
   "metadata": {},
   "outputs": [
    {
     "name": "stderr",
     "output_type": "stream",
     "text": [
      "[INFO] [1676039072.324114411] [moveit_cpp_initializer]: Initialize rclcpp\n",
      "[INFO] [1676039072.324195792] [moveit_cpp_initializer]: Initialize node parameters\n",
      "[INFO] [1676039072.357869199] [moveit_cpp_initializer]: params_filepath: /tmp/launch_params_rndkt3hn\n",
      "[INFO] [1676039072.357884729] [moveit_cpp_initializer]: Initialize node and executor\n",
      "[INFO] [1676039072.367080958] [moveit_cpp_initializer]: Spin separate thread\n",
      "[INFO] [1676039072.399677561] [moveit_rdf_loader.rdf_loader]: Loaded robot model in 0.0324735 seconds\n",
      "[INFO] [1676039072.399733601] [moveit_robot_model.robot_model]: Loading robot model 'lite6'...\n",
      "[INFO] [1676039072.399745632] [moveit_robot_model.robot_model]: No root/virtual joint specified in SRDF. Assuming fixed joint\n",
      "[INFO] [1676039073.785482423] [moveit.ros_planning_interface.moveit_cpp]: Listening to '/joint_states' for joint states\n",
      "[INFO] [1676039073.786157895] [moveit_ros.current_state_monitor]: Listening to joint states on topic '/joint_states'\n",
      "[INFO] [1676039073.787081348] [moveit_ros.planning_scene_monitor.planning_scene_monitor]: Listening to '/moveit_cpp/planning_scene_monitor' for attached collision objects\n",
      "[INFO] [1676039073.787467650] [moveit_ros.planning_scene_monitor.planning_scene_monitor]: Publishing maintained planning scene on '/moveit_cpp/monitored_planning_scene'\n",
      "[INFO] [1676039073.787584670] [moveit_ros.planning_scene_monitor.planning_scene_monitor]: Starting planning scene monitor\n",
      "[INFO] [1676039073.788075122] [moveit_ros.planning_scene_monitor.planning_scene_monitor]: Listening to '/moveit_cpp/publish_planning_scene'\n",
      "[INFO] [1676039073.788083142] [moveit_ros.planning_scene_monitor.planning_scene_monitor]: Starting world geometry update monitor for collision objects, attached objects, octomap updates.\n",
      "[INFO] [1676039073.788333973] [moveit_ros.planning_scene_monitor.planning_scene_monitor]: Listening to 'collision_object'\n",
      "[INFO] [1676039073.788589253] [moveit_ros.planning_scene_monitor.planning_scene_monitor]: Listening to 'planning_scene_world' for planning scene world geometry\n",
      "[WARN] [1676039073.789452026] [moveit.ros.occupancy_map_monitor.middleware_handle]: Resolution not specified for Octomap. Assuming resolution = 0.1 instead\n",
      "[ERROR] [1676039073.789462816] [moveit.ros.occupancy_map_monitor.middleware_handle]: No 3D sensor plugin(s) defined for octomap updates\n",
      "[INFO] [1676039073.836581666] [moveit.ros_planning_interface.moveit_cpp]: Loading planning pipeline 'ompl'\n",
      "[INFO] [1676039073.842309324] [moveit.ros_planning.planning_pipeline]: Using planning interface 'OMPL'\n",
      "[INFO] [1676039073.845257223] [moveit_ros.add_time_optimal_parameterization]: Param 'ompl.path_tolerance' was not set. Using default value: 0.100000\n",
      "[INFO] [1676039073.845265873] [moveit_ros.add_time_optimal_parameterization]: Param 'ompl.resample_dt' was not set. Using default value: 0.100000\n",
      "[INFO] [1676039073.845269303] [moveit_ros.add_time_optimal_parameterization]: Param 'ompl.min_angle_change' was not set. Using default value: 0.001000\n",
      "[INFO] [1676039073.845304823] [moveit_ros.fix_workspace_bounds]: Param 'ompl.default_workspace_bounds' was not set. Using default value: 10.000000\n",
      "[INFO] [1676039073.845322803] [moveit_ros.fix_start_state_bounds]: Param 'ompl.start_state_max_bounds_error' was set to 0.100000\n",
      "[INFO] [1676039073.845326473] [moveit_ros.fix_start_state_bounds]: Param 'ompl.start_state_max_dt' was not set. Using default value: 0.500000\n",
      "[INFO] [1676039073.845339973] [moveit_ros.fix_start_state_collision]: Param 'ompl.start_state_max_dt' was not set. Using default value: 0.500000\n",
      "[INFO] [1676039073.845343313] [moveit_ros.fix_start_state_collision]: Param 'ompl.jiggle_fraction' was not set. Using default value: 0.020000\n",
      "[INFO] [1676039073.845346393] [moveit_ros.fix_start_state_collision]: Param 'ompl.max_sampling_attempts' was not set. Using default value: 100\n",
      "[INFO] [1676039073.845363713] [moveit.ros_planning.planning_pipeline]: Using planning request adapter 'Add Time Optimal Parameterization'\n",
      "[INFO] [1676039073.845368213] [moveit.ros_planning.planning_pipeline]: Using planning request adapter 'Resolve constraint frames to robot links'\n",
      "[INFO] [1676039073.845389703] [moveit.ros_planning.planning_pipeline]: Using planning request adapter 'Fix Workspace Bounds'\n",
      "[INFO] [1676039073.845392633] [moveit.ros_planning.planning_pipeline]: Using planning request adapter 'Fix Start State Bounds'\n",
      "[INFO] [1676039073.845395083] [moveit.ros_planning.planning_pipeline]: Using planning request adapter 'Fix Start State In Collision'\n",
      "[INFO] [1676039073.845397553] [moveit.ros_planning.planning_pipeline]: Using planning request adapter 'Fix Start State Path Constraints'\n",
      "[INFO] [1676039073.859405578] [moveit.plugins.moveit_simple_controller_manager]: Added FollowJointTrajectory controller for lite6_traj_controller\n",
      "[INFO] [1676039073.859517458] [moveit.plugins.moveit_simple_controller_manager]: Returned 1 controllers in list\n",
      "[INFO] [1676039073.859555658] [moveit.plugins.moveit_simple_controller_manager]: Returned 1 controllers in list\n",
      "[INFO] [1676039073.859847749] [moveit_ros.trajectory_execution_manager]: Trajectory execution is managing controllers\n",
      "[WARN] [1676039073.860898362] [moveit_py]: Parameter 'plan_request_params.planner_id' not found in config use default value instead, check parameter type and namespace in YAML file\n",
      "[WARN] [1676039073.860925242] [moveit_py]: Parameter 'plan_request_params.planning_time' not found in config use default value instead, check parameter type and namespace in YAML file\n"
     ]
    }
   ],
   "source": [
    "# initialise rclpy (only for logging purposes)\n",
    "rclpy.init()\n",
    "\n",
    "# instantiate moveit_py instance and a planning component for the panda_arm\n",
    "moveit = MoveItPy(node_name=\"moveit_py\", config_dict=moveit_config)\n",
    "lite6 = moveit.get_planning_component(\"lite6\")"
   ]
  },
  {
   "cell_type": "markdown",
   "id": "2f72a61e",
   "metadata": {},
   "source": [
    "## Motion Planning Example"
   ]
  },
  {
   "cell_type": "code",
   "execution_count": 3,
   "id": "2cf83a9c",
   "metadata": {},
   "outputs": [
    {
     "name": "stderr",
     "output_type": "stream",
     "text": [
      "[INFO] [1676039077.427994556] [moveit.ompl_planning.model_based_planning_context]: Planner configuration 'lite6' will use planner 'geometric::RRTConnect'. Additional configuration parameters will be set when the planner is constructed.\n",
      "[WARN] [1676039079.152988698] [moveit_trajectory_processing.time_optimal_trajectory_generation]: Joint acceleration limits are not defined. Using the default 1 rad/s^2. You can define acceleration limits in the URDF or joint_limits.yaml.\n",
      "[INFO] [1676039079.176814754] [moveit.plugins.moveit_simple_controller_manager]: Returned 1 controllers in list\n",
      "[INFO] [1676039079.176848284] [moveit.plugins.moveit_simple_controller_manager]: Returned 1 controllers in list\n",
      "[INFO] [1676039079.176957824] [moveit.plugins.moveit_simple_controller_manager]: Returned 1 controllers in list\n",
      "[INFO] [1676039079.176969094] [moveit.plugins.moveit_simple_controller_manager]: Returned 1 controllers in list\n",
      "[INFO] [1676039079.177057405] [moveit_ros.trajectory_execution_manager]: Validating trajectory with allowed_start_tolerance 0.01\n",
      "[INFO] [1676039079.224661426] [moveit_ros.trajectory_execution_manager]: Starting trajectory execution ...\n",
      "[INFO] [1676039079.224692196] [moveit.plugins.moveit_simple_controller_manager]: Returned 1 controllers in list\n",
      "[INFO] [1676039079.224719646] [moveit.plugins.moveit_simple_controller_manager]: Returned 1 controllers in list\n",
      "[INFO] [1676039079.224835736] [moveit.simple_controller_manager.follow_joint_trajectory_controller_handle]: sending trajectory to lite6_traj_controller\n",
      "[INFO] [1676039079.225299488] [moveit.simple_controller_manager.follow_joint_trajectory_controller_handle]: lite6_traj_controller started execution\n",
      "[INFO] [1676039079.225339218] [moveit.simple_controller_manager.follow_joint_trajectory_controller_handle]: Goal request accepted!\n",
      "[INFO] [1676039081.925489089] [moveit.simple_controller_manager.follow_joint_trajectory_controller_handle]: Controller 'lite6_traj_controller' successfully finished\n",
      "[INFO] [1676039082.324750325] [moveit_ros.trajectory_execution_manager]: Completed trajectory execution with status SUCCEEDED ...\n"
     ]
    }
   ],
   "source": [
    "lite6.set_start_state_to_current_state()\n",
    "\n",
    "# set constraints message\n",
    "joint_values = {\n",
    "    \"joint1\": math.radians(100),\n",
    "    \"joint2\": math.radians(10.4),\n",
    "    \"joint3\": math.radians(31.1),\n",
    "    \"joint4\": math.radians(-1.5),\n",
    "    \"joint5\": math.radians(21.5),\n",
    "    \"joint6\": math.radians(1.3),\n",
    "}\n",
    "robot_state = RobotState(moveit.get_robot_model())\n",
    "robot_state.joint_positions = joint_values\n",
    "joint_constraint = construct_joint_constraint(\n",
    "    robot_state=robot_state,\n",
    "    joint_model_group=moveit.get_robot_model().get_joint_model_group(\"lite6\"),\n",
    ")\n",
    "lite6.set_goal_state(motion_plan_constraints=[joint_constraint])\n",
    "\n",
    "# plan to goal\n",
    "plan_result = lite6.plan()\n",
    "\n",
    "# execute the plan\n",
    "if plan_result:\n",
    "    lite6.execute()"
   ]
  },
  {
   "cell_type": "code",
   "execution_count": null,
   "id": "2f590234",
   "metadata": {},
   "outputs": [],
   "source": []
  }
 ],
 "metadata": {
  "kernelspec": {
   "display_name": "Python 3 (ipykernel)",
   "language": "python",
   "name": "python3"
  },
  "language_info": {
   "codemirror_mode": {
    "name": "ipython",
    "version": 3
   },
   "file_extension": ".py",
   "mimetype": "text/x-python",
   "name": "python",
   "nbconvert_exporter": "python",
   "pygments_lexer": "ipython3",
   "version": "3.10.6"
  }
 },
 "nbformat": 4,
 "nbformat_minor": 5
}
